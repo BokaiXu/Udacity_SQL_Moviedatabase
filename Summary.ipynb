{
 "cells": [
  {
   "cell_type": "code",
   "execution_count": 1,
   "metadata": {},
   "outputs": [],
   "source": [
    "#Import packages\n",
    "import pandas as pd\n",
    "import numpy as np\n",
    "import seaborn as sb\n",
    "import matplotlib.pyplot as plt\n",
    "%matplotlib inline"
   ]
  },
  {
   "cell_type": "code",
   "execution_count": 2,
   "metadata": {},
   "outputs": [
    {
     "data": {
      "text/html": [
       "<div>\n",
       "<style scoped>\n",
       "    .dataframe tbody tr th:only-of-type {\n",
       "        vertical-align: middle;\n",
       "    }\n",
       "\n",
       "    .dataframe tbody tr th {\n",
       "        vertical-align: top;\n",
       "    }\n",
       "\n",
       "    .dataframe thead th {\n",
       "        text-align: right;\n",
       "    }\n",
       "</style>\n",
       "<table border=\"1\" class=\"dataframe\">\n",
       "  <thead>\n",
       "    <tr style=\"text-align: right;\">\n",
       "      <th></th>\n",
       "      <th>date_trunc</th>\n",
       "      <th>name</th>\n",
       "      <th>count</th>\n",
       "      <th>sum</th>\n",
       "    </tr>\n",
       "  </thead>\n",
       "  <tbody>\n",
       "    <tr>\n",
       "      <th>0</th>\n",
       "      <td>2007-02-01T00:00:00.000Z</td>\n",
       "      <td>Ana Bradley</td>\n",
       "      <td>4</td>\n",
       "      <td>19.96</td>\n",
       "    </tr>\n",
       "    <tr>\n",
       "      <th>1</th>\n",
       "      <td>2007-03-01T00:00:00.000Z</td>\n",
       "      <td>Ana Bradley</td>\n",
       "      <td>16</td>\n",
       "      <td>71.84</td>\n",
       "    </tr>\n",
       "    <tr>\n",
       "      <th>2</th>\n",
       "      <td>2007-04-01T00:00:00.000Z</td>\n",
       "      <td>Ana Bradley</td>\n",
       "      <td>12</td>\n",
       "      <td>72.88</td>\n",
       "    </tr>\n",
       "    <tr>\n",
       "      <th>3</th>\n",
       "      <td>2007-05-01T00:00:00.000Z</td>\n",
       "      <td>Ana Bradley</td>\n",
       "      <td>1</td>\n",
       "      <td>2.99</td>\n",
       "    </tr>\n",
       "    <tr>\n",
       "      <th>4</th>\n",
       "      <td>2007-02-01T00:00:00.000Z</td>\n",
       "      <td>Clara Shaw</td>\n",
       "      <td>6</td>\n",
       "      <td>22.94</td>\n",
       "    </tr>\n",
       "  </tbody>\n",
       "</table>\n",
       "</div>"
      ],
      "text/plain": [
       "                 date_trunc         name  count    sum\n",
       "0  2007-02-01T00:00:00.000Z  Ana Bradley      4  19.96\n",
       "1  2007-03-01T00:00:00.000Z  Ana Bradley     16  71.84\n",
       "2  2007-04-01T00:00:00.000Z  Ana Bradley     12  72.88\n",
       "3  2007-05-01T00:00:00.000Z  Ana Bradley      1   2.99\n",
       "4  2007-02-01T00:00:00.000Z   Clara Shaw      6  22.94"
      ]
     },
     "execution_count": 2,
     "metadata": {},
     "output_type": "execute_result"
    }
   ],
   "source": [
    "#Read data frame\n",
    "df=pd.read_csv('results.csv')\n",
    "df.head()"
   ]
  },
  {
   "cell_type": "code",
   "execution_count": 3,
   "metadata": {},
   "outputs": [
    {
     "name": "stdout",
     "output_type": "stream",
     "text": [
      "<class 'pandas.core.frame.DataFrame'>\n",
      "RangeIndex: 34 entries, 0 to 33\n",
      "Data columns (total 4 columns):\n",
      " #   Column      Non-Null Count  Dtype  \n",
      "---  ------      --------------  -----  \n",
      " 0   date_trunc  34 non-null     object \n",
      " 1   name        34 non-null     object \n",
      " 2   count       34 non-null     int64  \n",
      " 3   sum         34 non-null     float64\n",
      "dtypes: float64(1), int64(1), object(2)\n",
      "memory usage: 1.2+ KB\n"
     ]
    }
   ],
   "source": [
    "#Check Info\n",
    "df.info()"
   ]
  },
  {
   "cell_type": "code",
   "execution_count": 4,
   "metadata": {},
   "outputs": [
    {
     "data": {
      "text/plain": [
       "array(['Ana Bradley', 'Clara Shaw', 'Curtis Irby', 'Eleanor Hunt',\n",
       "       'Karl Seal', 'Marcia Dean', 'Marion Snyder', 'Mike Way',\n",
       "       'Rhonda Kennedy', 'Tommy Collazo'], dtype=object)"
      ]
     },
     "execution_count": 4,
     "metadata": {},
     "output_type": "execute_result"
    }
   ],
   "source": [
    "#Change data type\n",
    "df['name'].unique()"
   ]
  },
  {
   "cell_type": "code",
   "execution_count": 5,
   "metadata": {},
   "outputs": [
    {
     "name": "stdout",
     "output_type": "stream",
     "text": [
      "<class 'pandas.core.frame.DataFrame'>\n",
      "RangeIndex: 34 entries, 0 to 33\n",
      "Data columns (total 4 columns):\n",
      " #   Column      Non-Null Count  Dtype   \n",
      "---  ------      --------------  -----   \n",
      " 0   date_trunc  34 non-null     object  \n",
      " 1   name        34 non-null     category\n",
      " 2   count       34 non-null     int64   \n",
      " 3   sum         34 non-null     float64 \n",
      "dtypes: category(1), float64(1), int64(1), object(1)\n",
      "memory usage: 1.3+ KB\n"
     ]
    }
   ],
   "source": [
    "#Change data type\n",
    "name_list=['Ana Bradley', 'Clara Shaw', 'Curtis Irby', 'Eleanor Hunt',\n",
    "       'Karl Seal', 'Marcia Dean', 'Marion Snyder', 'Mike Way',\n",
    "       'Rhonda Kennedy', 'Tommy Collazo']\n",
    "name_type=pd.api.types.CategoricalDtype(categories=name_list, ordered=True)\n",
    "df['name']=df['name'].astype(name_type)\n",
    "df.info()"
   ]
  },
  {
   "cell_type": "code",
   "execution_count": 6,
   "metadata": {},
   "outputs": [
    {
     "name": "stdout",
     "output_type": "stream",
     "text": [
      "<class 'pandas.core.frame.DataFrame'>\n",
      "RangeIndex: 34 entries, 0 to 33\n",
      "Data columns (total 4 columns):\n",
      " #   Column      Non-Null Count  Dtype              \n",
      "---  ------      --------------  -----              \n",
      " 0   date_trunc  34 non-null     datetime64[ns, UTC]\n",
      " 1   name        34 non-null     category           \n",
      " 2   count       34 non-null     int64              \n",
      " 3   sum         34 non-null     float64            \n",
      "dtypes: category(1), datetime64[ns, UTC](1), float64(1), int64(1)\n",
      "memory usage: 1.3 KB\n"
     ]
    }
   ],
   "source": [
    "#Change data type\n",
    "df['date_trunc']=pd.to_datetime(df['date_trunc'])\n",
    "df.info()"
   ]
  },
  {
   "cell_type": "code",
   "execution_count": 7,
   "metadata": {},
   "outputs": [
    {
     "data": {
      "image/png": "[encoded data removed]",
      "text/plain": [
       "<Figure size 1152x648 with 1 Axes>"
      ]
     },
     "metadata": {
      "needs_background": "light"
     },
     "output_type": "display_data"
    }
   ],
   "source": [
    "#Make a plot\n",
    "plt.figure(figsize=[16,9]),\n",
    "sb.pointplot(data=df, x='name',y='sum',hue='date_trunc', palette='Greens',\n",
    "             linestyles='')\n",
    "plt.grid()\n",
    "plt.xticks(rotation=60)\n",
    "plt.xlabel('')\n",
    "plt.ylabel('Monthly_payment($)')\n",
    "plt.title('Monthly Payment of Top 10 Customer')\n",
    "plt.legend(loc='upper left');"
   ]
  },
  {
   "cell_type": "code",
   "execution_count": null,
   "metadata": {},
   "outputs": [],
   "source": []
  }
 ],
 "metadata": {
  "kernelspec": {
   "display_name": "Python 3",
   "language": "python",
   "name": "python3"
  },
  "language_info": {
   "codemirror_mode": {
    "name": "ipython",
    "version": 3
   },
   "file_extension": ".py",
   "mimetype": "text/x-python",
   "name": "python",
   "nbconvert_exporter": "python",
   "pygments_lexer": "ipython3",
   "version": "3.8.5"
  }
 },
 "nbformat": 4,
 "nbformat_minor": 4
}
